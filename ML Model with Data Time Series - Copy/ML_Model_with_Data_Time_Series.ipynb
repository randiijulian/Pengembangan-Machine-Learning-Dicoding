{
  "cells": [
    {
      "cell_type": "markdown",
      "metadata": {
        "id": "view-in-github",
        "colab_type": "text"
      },
      "source": [
        "<a href=\"https://colab.research.google.com/github/randiijulian/Pengembangan-Machine-Learning-Dicoding/blob/main/ML_Model_with_Data_Time_Series.ipynb\" target=\"_parent\"><img src=\"https://colab.research.google.com/assets/colab-badge.svg\" alt=\"Open In Colab\"/></a>"
      ]
    },
    {
      "cell_type": "markdown",
      "metadata": {
        "id": "tlgK34adWQ1q"
      },
      "source": [
        "Nama : Randi Julian Saputra\n",
        "\n",
        "Github : github.com/randiijulian\n",
        "\n",
        "Dataset : kaggle.com/datasets/cornflake15/denpasarbalihistoricalweatherdata\n",
        "\n",
        "## Project Submission 2 Dicoding Pengembangan ML\n",
        "LSTM Model"
      ]
    },
    {
      "cell_type": "code",
      "execution_count": null,
      "metadata": {
        "colab": {
          "base_uri": "https://localhost:8080/"
        },
        "id": "u9fdLVe5KFOC",
        "outputId": "8344ee4a-cdc8-4d40-fa3d-54a39f7e9f95"
      },
      "outputs": [
        {
          "output_type": "stream",
          "name": "stdout",
          "text": [
            "Mounted at /content/drive\n"
          ]
        }
      ],
      "source": [
        "from google.colab import drive\n",
        "drive.mount('/content/drive')"
      ]
    },
    {
      "cell_type": "code",
      "execution_count": null,
      "metadata": {
        "id": "qP2J1NlQ4DuX"
      },
      "outputs": [],
      "source": [
        "#Import Library\n",
        "import numpy as np\n",
        "import pandas as pd\n",
        "from keras.layers import Dense, LSTM\n",
        "import matplotlib.pyplot as plt\n",
        "import tensorflow as tf"
      ]
    },
    {
      "cell_type": "code",
      "execution_count": null,
      "metadata": {
        "colab": {
          "base_uri": "https://localhost:8080/"
        },
        "id": "-Qxf5WQFNmVY",
        "outputId": "9e35d51a-145b-4a4a-e621-de85070d4fbc"
      },
      "outputs": [
        {
          "output_type": "stream",
          "name": "stdout",
          "text": [
            "Looking in indexes: https://pypi.org/simple, https://us-python.pkg.dev/colab-wheels/public/simple/\n",
            "Requirement already satisfied: kaggle in /usr/local/lib/python3.8/dist-packages (1.5.12)\n",
            "Requirement already satisfied: requests in /usr/local/lib/python3.8/dist-packages (from kaggle) (2.23.0)\n",
            "Requirement already satisfied: tqdm in /usr/local/lib/python3.8/dist-packages (from kaggle) (4.64.1)\n",
            "Requirement already satisfied: six>=1.10 in /usr/local/lib/python3.8/dist-packages (from kaggle) (1.15.0)\n",
            "Requirement already satisfied: urllib3 in /usr/local/lib/python3.8/dist-packages (from kaggle) (1.24.3)\n",
            "Requirement already satisfied: python-dateutil in /usr/local/lib/python3.8/dist-packages (from kaggle) (2.8.2)\n",
            "Requirement already satisfied: certifi in /usr/local/lib/python3.8/dist-packages (from kaggle) (2022.12.7)\n",
            "Requirement already satisfied: python-slugify in /usr/local/lib/python3.8/dist-packages (from kaggle) (7.0.0)\n",
            "Requirement already satisfied: text-unidecode>=1.3 in /usr/local/lib/python3.8/dist-packages (from python-slugify->kaggle) (1.3)\n",
            "Requirement already satisfied: chardet<4,>=3.0.2 in /usr/local/lib/python3.8/dist-packages (from requests->kaggle) (3.0.4)\n",
            "Requirement already satisfied: idna<3,>=2.5 in /usr/local/lib/python3.8/dist-packages (from requests->kaggle) (2.10)\n"
          ]
        }
      ],
      "source": [
        "#install kaggle\n",
        "# !pip install -U -q kaggle\n",
        "!pip install kaggle\n",
        "!mkdir -p ~/.kaggle"
      ]
    },
    {
      "cell_type": "code",
      "execution_count": null,
      "metadata": {
        "id": "2-8HNWQWNqP3"
      },
      "outputs": [],
      "source": [
        "#Copy the “kaggle.json” into this new directory\n",
        "!cp /content/drive/MyDrive/kaggle.json ~/.kaggle/"
      ]
    },
    {
      "cell_type": "code",
      "execution_count": null,
      "metadata": {
        "id": "b-CTZ_QaJReD"
      },
      "outputs": [],
      "source": [
        "# #Allocate the required permission for this file.\n",
        "# ! chmod 600 \"/content/drive/MyDrive/kaggle.json\""
      ]
    },
    {
      "cell_type": "code",
      "execution_count": null,
      "metadata": {
        "colab": {
          "base_uri": "https://localhost:8080/"
        },
        "id": "ia_GD7vKNr_G",
        "outputId": "819c4d5b-08ab-475b-d8c8-90a237216607"
      },
      "outputs": [
        {
          "output_type": "stream",
          "name": "stdout",
          "text": [
            "Downloading denpasarbalihistoricalweatherdata.zip to /content\n",
            "\r  0% 0.00/7.32M [00:00<?, ?B/s]\r100% 7.32M/7.32M [00:00<00:00, 76.5MB/s]\n",
            "\r100% 7.32M/7.32M [00:00<00:00, 76.3MB/s]\n",
            "denpasarbalihistoricalweatherdata.zip  drive  sample_data\n"
          ]
        }
      ],
      "source": [
        "#download dataset menggunakan link kaggle\n",
        "!kaggle datasets download -d cornflake15/denpasarbalihistoricalweatherdata\n",
        "!ls"
      ]
    },
    {
      "cell_type": "code",
      "execution_count": null,
      "metadata": {
        "id": "_4yRKML5MbUr"
      },
      "outputs": [],
      "source": [
        "import zipfile\n",
        "zip_file = zipfile.ZipFile('/content/denpasarbalihistoricalweatherdata.zip', 'r')\n",
        "zip_file.extractall('/content')\n",
        "zip_file.close()"
      ]
    },
    {
      "cell_type": "code",
      "execution_count": null,
      "metadata": {
        "colab": {
          "base_uri": "https://localhost:8080/",
          "height": 661
        },
        "id": "wzrdSHt_UuNy",
        "outputId": "c422dae0-a15e-4a82-a051-f0a22e993725"
      },
      "outputs": [
        {
          "output_type": "execute_result",
          "data": {
            "text/plain": [
              "                dt_iso  timezone city_name       lat         lon   temp  \\\n",
              "0        1/1/1990 0:00     28800  Denpasar -8.652497  115.219117  25.82   \n",
              "1        1/1/1990 1:00     28800  Denpasar -8.652497  115.219117  26.20   \n",
              "2        1/1/1990 2:00     28800  Denpasar -8.652497  115.219117  26.45   \n",
              "3        1/1/1990 3:00     28800  Denpasar -8.652497  115.219117  26.80   \n",
              "4        1/1/1990 4:00     28800  Denpasar -8.652497  115.219117  27.04   \n",
              "...                ...       ...       ...       ...         ...    ...   \n",
              "264919  1/7/2020 19:00     28800  Denpasar -8.652497  115.219117  27.00   \n",
              "264920  1/7/2020 20:00     28800  Denpasar -8.652497  115.219117  27.00   \n",
              "264921  1/7/2020 21:00     28800  Denpasar -8.652497  115.219117  28.00   \n",
              "264922  1/7/2020 22:00     28800  Denpasar -8.652497  115.219117  28.00   \n",
              "264923  1/7/2020 23:00     28800  Denpasar -8.652497  115.219117  28.00   \n",
              "\n",
              "        temp_min  temp_max  pressure  humidity  ...  snow_3h  snow_6h  \\\n",
              "0          25.82     25.82    1010.0        86  ...      NaN      NaN   \n",
              "1          26.20     26.20    1011.0        84  ...      NaN      NaN   \n",
              "2          26.45     26.45    1011.0        84  ...      NaN      NaN   \n",
              "3          26.80     26.80    1011.0        82  ...      NaN      NaN   \n",
              "4          27.04     27.04    1010.0        82  ...      NaN      NaN   \n",
              "...          ...       ...       ...       ...  ...      ...      ...   \n",
              "264919     27.00     27.00    1007.0        94  ...      NaN      NaN   \n",
              "264920     27.00     27.00    1007.0        94  ...      NaN      NaN   \n",
              "264921     28.00     28.00    1007.0        83  ...      NaN      NaN   \n",
              "264922     28.00     28.00    1007.0        83  ...      NaN      NaN   \n",
              "264923     28.00     28.00    1008.0        83  ...      NaN      NaN   \n",
              "\n",
              "        snow_12h  snow_24h  snow_today  clouds_all  weather_id  weather_main  \\\n",
              "0            NaN       NaN         NaN          98         500          Rain   \n",
              "1            NaN       NaN         NaN          91         500          Rain   \n",
              "2            NaN       NaN         NaN          94         500          Rain   \n",
              "3            NaN       NaN         NaN          94         500          Rain   \n",
              "4            NaN       NaN         NaN          76         803        Clouds   \n",
              "...          ...       ...         ...         ...         ...           ...   \n",
              "264919       NaN       NaN         NaN          75         803        Clouds   \n",
              "264920       NaN       NaN         NaN          75         803        Clouds   \n",
              "264921       NaN       NaN         NaN          75         803        Clouds   \n",
              "264922       NaN       NaN         NaN          40         802        Clouds   \n",
              "264923       NaN       NaN         NaN          40         802        Clouds   \n",
              "\n",
              "        weather_description  weather_icon  \n",
              "0                light rain           10d  \n",
              "1                light rain           10d  \n",
              "2                light rain           10d  \n",
              "3                light rain           10d  \n",
              "4             broken clouds           04d  \n",
              "...                     ...           ...  \n",
              "264919        broken clouds           04n  \n",
              "264920        broken clouds           04n  \n",
              "264921        broken clouds           04n  \n",
              "264922     scattered clouds           03n  \n",
              "264923     scattered clouds           03d  \n",
              "\n",
              "[264924 rows x 29 columns]"
            ],
            "text/html": [
              "\n",
              "  <div id=\"df-826ff82d-5e21-4591-b95b-efd31714799a\">\n",
              "    <div class=\"colab-df-container\">\n",
              "      <div>\n",
              "<style scoped>\n",
              "    .dataframe tbody tr th:only-of-type {\n",
              "        vertical-align: middle;\n",
              "    }\n",
              "\n",
              "    .dataframe tbody tr th {\n",
              "        vertical-align: top;\n",
              "    }\n",
              "\n",
              "    .dataframe thead th {\n",
              "        text-align: right;\n",
              "    }\n",
              "</style>\n",
              "<table border=\"1\" class=\"dataframe\">\n",
              "  <thead>\n",
              "    <tr style=\"text-align: right;\">\n",
              "      <th></th>\n",
              "      <th>dt_iso</th>\n",
              "      <th>timezone</th>\n",
              "      <th>city_name</th>\n",
              "      <th>lat</th>\n",
              "      <th>lon</th>\n",
              "      <th>temp</th>\n",
              "      <th>temp_min</th>\n",
              "      <th>temp_max</th>\n",
              "      <th>pressure</th>\n",
              "      <th>humidity</th>\n",
              "      <th>...</th>\n",
              "      <th>snow_3h</th>\n",
              "      <th>snow_6h</th>\n",
              "      <th>snow_12h</th>\n",
              "      <th>snow_24h</th>\n",
              "      <th>snow_today</th>\n",
              "      <th>clouds_all</th>\n",
              "      <th>weather_id</th>\n",
              "      <th>weather_main</th>\n",
              "      <th>weather_description</th>\n",
              "      <th>weather_icon</th>\n",
              "    </tr>\n",
              "  </thead>\n",
              "  <tbody>\n",
              "    <tr>\n",
              "      <th>0</th>\n",
              "      <td>1/1/1990 0:00</td>\n",
              "      <td>28800</td>\n",
              "      <td>Denpasar</td>\n",
              "      <td>-8.652497</td>\n",
              "      <td>115.219117</td>\n",
              "      <td>25.82</td>\n",
              "      <td>25.82</td>\n",
              "      <td>25.82</td>\n",
              "      <td>1010.0</td>\n",
              "      <td>86</td>\n",
              "      <td>...</td>\n",
              "      <td>NaN</td>\n",
              "      <td>NaN</td>\n",
              "      <td>NaN</td>\n",
              "      <td>NaN</td>\n",
              "      <td>NaN</td>\n",
              "      <td>98</td>\n",
              "      <td>500</td>\n",
              "      <td>Rain</td>\n",
              "      <td>light rain</td>\n",
              "      <td>10d</td>\n",
              "    </tr>\n",
              "    <tr>\n",
              "      <th>1</th>\n",
              "      <td>1/1/1990 1:00</td>\n",
              "      <td>28800</td>\n",
              "      <td>Denpasar</td>\n",
              "      <td>-8.652497</td>\n",
              "      <td>115.219117</td>\n",
              "      <td>26.20</td>\n",
              "      <td>26.20</td>\n",
              "      <td>26.20</td>\n",
              "      <td>1011.0</td>\n",
              "      <td>84</td>\n",
              "      <td>...</td>\n",
              "      <td>NaN</td>\n",
              "      <td>NaN</td>\n",
              "      <td>NaN</td>\n",
              "      <td>NaN</td>\n",
              "      <td>NaN</td>\n",
              "      <td>91</td>\n",
              "      <td>500</td>\n",
              "      <td>Rain</td>\n",
              "      <td>light rain</td>\n",
              "      <td>10d</td>\n",
              "    </tr>\n",
              "    <tr>\n",
              "      <th>2</th>\n",
              "      <td>1/1/1990 2:00</td>\n",
              "      <td>28800</td>\n",
              "      <td>Denpasar</td>\n",
              "      <td>-8.652497</td>\n",
              "      <td>115.219117</td>\n",
              "      <td>26.45</td>\n",
              "      <td>26.45</td>\n",
              "      <td>26.45</td>\n",
              "      <td>1011.0</td>\n",
              "      <td>84</td>\n",
              "      <td>...</td>\n",
              "      <td>NaN</td>\n",
              "      <td>NaN</td>\n",
              "      <td>NaN</td>\n",
              "      <td>NaN</td>\n",
              "      <td>NaN</td>\n",
              "      <td>94</td>\n",
              "      <td>500</td>\n",
              "      <td>Rain</td>\n",
              "      <td>light rain</td>\n",
              "      <td>10d</td>\n",
              "    </tr>\n",
              "    <tr>\n",
              "      <th>3</th>\n",
              "      <td>1/1/1990 3:00</td>\n",
              "      <td>28800</td>\n",
              "      <td>Denpasar</td>\n",
              "      <td>-8.652497</td>\n",
              "      <td>115.219117</td>\n",
              "      <td>26.80</td>\n",
              "      <td>26.80</td>\n",
              "      <td>26.80</td>\n",
              "      <td>1011.0</td>\n",
              "      <td>82</td>\n",
              "      <td>...</td>\n",
              "      <td>NaN</td>\n",
              "      <td>NaN</td>\n",
              "      <td>NaN</td>\n",
              "      <td>NaN</td>\n",
              "      <td>NaN</td>\n",
              "      <td>94</td>\n",
              "      <td>500</td>\n",
              "      <td>Rain</td>\n",
              "      <td>light rain</td>\n",
              "      <td>10d</td>\n",
              "    </tr>\n",
              "    <tr>\n",
              "      <th>4</th>\n",
              "      <td>1/1/1990 4:00</td>\n",
              "      <td>28800</td>\n",
              "      <td>Denpasar</td>\n",
              "      <td>-8.652497</td>\n",
              "      <td>115.219117</td>\n",
              "      <td>27.04</td>\n",
              "      <td>27.04</td>\n",
              "      <td>27.04</td>\n",
              "      <td>1010.0</td>\n",
              "      <td>82</td>\n",
              "      <td>...</td>\n",
              "      <td>NaN</td>\n",
              "      <td>NaN</td>\n",
              "      <td>NaN</td>\n",
              "      <td>NaN</td>\n",
              "      <td>NaN</td>\n",
              "      <td>76</td>\n",
              "      <td>803</td>\n",
              "      <td>Clouds</td>\n",
              "      <td>broken clouds</td>\n",
              "      <td>04d</td>\n",
              "    </tr>\n",
              "    <tr>\n",
              "      <th>...</th>\n",
              "      <td>...</td>\n",
              "      <td>...</td>\n",
              "      <td>...</td>\n",
              "      <td>...</td>\n",
              "      <td>...</td>\n",
              "      <td>...</td>\n",
              "      <td>...</td>\n",
              "      <td>...</td>\n",
              "      <td>...</td>\n",
              "      <td>...</td>\n",
              "      <td>...</td>\n",
              "      <td>...</td>\n",
              "      <td>...</td>\n",
              "      <td>...</td>\n",
              "      <td>...</td>\n",
              "      <td>...</td>\n",
              "      <td>...</td>\n",
              "      <td>...</td>\n",
              "      <td>...</td>\n",
              "      <td>...</td>\n",
              "      <td>...</td>\n",
              "    </tr>\n",
              "    <tr>\n",
              "      <th>264919</th>\n",
              "      <td>1/7/2020 19:00</td>\n",
              "      <td>28800</td>\n",
              "      <td>Denpasar</td>\n",
              "      <td>-8.652497</td>\n",
              "      <td>115.219117</td>\n",
              "      <td>27.00</td>\n",
              "      <td>27.00</td>\n",
              "      <td>27.00</td>\n",
              "      <td>1007.0</td>\n",
              "      <td>94</td>\n",
              "      <td>...</td>\n",
              "      <td>NaN</td>\n",
              "      <td>NaN</td>\n",
              "      <td>NaN</td>\n",
              "      <td>NaN</td>\n",
              "      <td>NaN</td>\n",
              "      <td>75</td>\n",
              "      <td>803</td>\n",
              "      <td>Clouds</td>\n",
              "      <td>broken clouds</td>\n",
              "      <td>04n</td>\n",
              "    </tr>\n",
              "    <tr>\n",
              "      <th>264920</th>\n",
              "      <td>1/7/2020 20:00</td>\n",
              "      <td>28800</td>\n",
              "      <td>Denpasar</td>\n",
              "      <td>-8.652497</td>\n",
              "      <td>115.219117</td>\n",
              "      <td>27.00</td>\n",
              "      <td>27.00</td>\n",
              "      <td>27.00</td>\n",
              "      <td>1007.0</td>\n",
              "      <td>94</td>\n",
              "      <td>...</td>\n",
              "      <td>NaN</td>\n",
              "      <td>NaN</td>\n",
              "      <td>NaN</td>\n",
              "      <td>NaN</td>\n",
              "      <td>NaN</td>\n",
              "      <td>75</td>\n",
              "      <td>803</td>\n",
              "      <td>Clouds</td>\n",
              "      <td>broken clouds</td>\n",
              "      <td>04n</td>\n",
              "    </tr>\n",
              "    <tr>\n",
              "      <th>264921</th>\n",
              "      <td>1/7/2020 21:00</td>\n",
              "      <td>28800</td>\n",
              "      <td>Denpasar</td>\n",
              "      <td>-8.652497</td>\n",
              "      <td>115.219117</td>\n",
              "      <td>28.00</td>\n",
              "      <td>28.00</td>\n",
              "      <td>28.00</td>\n",
              "      <td>1007.0</td>\n",
              "      <td>83</td>\n",
              "      <td>...</td>\n",
              "      <td>NaN</td>\n",
              "      <td>NaN</td>\n",
              "      <td>NaN</td>\n",
              "      <td>NaN</td>\n",
              "      <td>NaN</td>\n",
              "      <td>75</td>\n",
              "      <td>803</td>\n",
              "      <td>Clouds</td>\n",
              "      <td>broken clouds</td>\n",
              "      <td>04n</td>\n",
              "    </tr>\n",
              "    <tr>\n",
              "      <th>264922</th>\n",
              "      <td>1/7/2020 22:00</td>\n",
              "      <td>28800</td>\n",
              "      <td>Denpasar</td>\n",
              "      <td>-8.652497</td>\n",
              "      <td>115.219117</td>\n",
              "      <td>28.00</td>\n",
              "      <td>28.00</td>\n",
              "      <td>28.00</td>\n",
              "      <td>1007.0</td>\n",
              "      <td>83</td>\n",
              "      <td>...</td>\n",
              "      <td>NaN</td>\n",
              "      <td>NaN</td>\n",
              "      <td>NaN</td>\n",
              "      <td>NaN</td>\n",
              "      <td>NaN</td>\n",
              "      <td>40</td>\n",
              "      <td>802</td>\n",
              "      <td>Clouds</td>\n",
              "      <td>scattered clouds</td>\n",
              "      <td>03n</td>\n",
              "    </tr>\n",
              "    <tr>\n",
              "      <th>264923</th>\n",
              "      <td>1/7/2020 23:00</td>\n",
              "      <td>28800</td>\n",
              "      <td>Denpasar</td>\n",
              "      <td>-8.652497</td>\n",
              "      <td>115.219117</td>\n",
              "      <td>28.00</td>\n",
              "      <td>28.00</td>\n",
              "      <td>28.00</td>\n",
              "      <td>1008.0</td>\n",
              "      <td>83</td>\n",
              "      <td>...</td>\n",
              "      <td>NaN</td>\n",
              "      <td>NaN</td>\n",
              "      <td>NaN</td>\n",
              "      <td>NaN</td>\n",
              "      <td>NaN</td>\n",
              "      <td>40</td>\n",
              "      <td>802</td>\n",
              "      <td>Clouds</td>\n",
              "      <td>scattered clouds</td>\n",
              "      <td>03d</td>\n",
              "    </tr>\n",
              "  </tbody>\n",
              "</table>\n",
              "<p>264924 rows × 29 columns</p>\n",
              "</div>\n",
              "      <button class=\"colab-df-convert\" onclick=\"convertToInteractive('df-826ff82d-5e21-4591-b95b-efd31714799a')\"\n",
              "              title=\"Convert this dataframe to an interactive table.\"\n",
              "              style=\"display:none;\">\n",
              "        \n",
              "  <svg xmlns=\"http://www.w3.org/2000/svg\" height=\"24px\"viewBox=\"0 0 24 24\"\n",
              "       width=\"24px\">\n",
              "    <path d=\"M0 0h24v24H0V0z\" fill=\"none\"/>\n",
              "    <path d=\"M18.56 5.44l.94 2.06.94-2.06 2.06-.94-2.06-.94-.94-2.06-.94 2.06-2.06.94zm-11 1L8.5 8.5l.94-2.06 2.06-.94-2.06-.94L8.5 2.5l-.94 2.06-2.06.94zm10 10l.94 2.06.94-2.06 2.06-.94-2.06-.94-.94-2.06-.94 2.06-2.06.94z\"/><path d=\"M17.41 7.96l-1.37-1.37c-.4-.4-.92-.59-1.43-.59-.52 0-1.04.2-1.43.59L10.3 9.45l-7.72 7.72c-.78.78-.78 2.05 0 2.83L4 21.41c.39.39.9.59 1.41.59.51 0 1.02-.2 1.41-.59l7.78-7.78 2.81-2.81c.8-.78.8-2.07 0-2.86zM5.41 20L4 18.59l7.72-7.72 1.47 1.35L5.41 20z\"/>\n",
              "  </svg>\n",
              "      </button>\n",
              "      \n",
              "  <style>\n",
              "    .colab-df-container {\n",
              "      display:flex;\n",
              "      flex-wrap:wrap;\n",
              "      gap: 12px;\n",
              "    }\n",
              "\n",
              "    .colab-df-convert {\n",
              "      background-color: #E8F0FE;\n",
              "      border: none;\n",
              "      border-radius: 50%;\n",
              "      cursor: pointer;\n",
              "      display: none;\n",
              "      fill: #1967D2;\n",
              "      height: 32px;\n",
              "      padding: 0 0 0 0;\n",
              "      width: 32px;\n",
              "    }\n",
              "\n",
              "    .colab-df-convert:hover {\n",
              "      background-color: #E2EBFA;\n",
              "      box-shadow: 0px 1px 2px rgba(60, 64, 67, 0.3), 0px 1px 3px 1px rgba(60, 64, 67, 0.15);\n",
              "      fill: #174EA6;\n",
              "    }\n",
              "\n",
              "    [theme=dark] .colab-df-convert {\n",
              "      background-color: #3B4455;\n",
              "      fill: #D2E3FC;\n",
              "    }\n",
              "\n",
              "    [theme=dark] .colab-df-convert:hover {\n",
              "      background-color: #434B5C;\n",
              "      box-shadow: 0px 1px 3px 1px rgba(0, 0, 0, 0.15);\n",
              "      filter: drop-shadow(0px 1px 2px rgba(0, 0, 0, 0.3));\n",
              "      fill: #FFFFFF;\n",
              "    }\n",
              "  </style>\n",
              "\n",
              "      <script>\n",
              "        const buttonEl =\n",
              "          document.querySelector('#df-826ff82d-5e21-4591-b95b-efd31714799a button.colab-df-convert');\n",
              "        buttonEl.style.display =\n",
              "          google.colab.kernel.accessAllowed ? 'block' : 'none';\n",
              "\n",
              "        async function convertToInteractive(key) {\n",
              "          const element = document.querySelector('#df-826ff82d-5e21-4591-b95b-efd31714799a');\n",
              "          const dataTable =\n",
              "            await google.colab.kernel.invokeFunction('convertToInteractive',\n",
              "                                                     [key], {});\n",
              "          if (!dataTable) return;\n",
              "\n",
              "          const docLinkHtml = 'Like what you see? Visit the ' +\n",
              "            '<a target=\"_blank\" href=https://colab.research.google.com/notebooks/data_table.ipynb>data table notebook</a>'\n",
              "            + ' to learn more about interactive tables.';\n",
              "          element.innerHTML = '';\n",
              "          dataTable['output_type'] = 'display_data';\n",
              "          await google.colab.output.renderOutput(dataTable, element);\n",
              "          const docLink = document.createElement('div');\n",
              "          docLink.innerHTML = docLinkHtml;\n",
              "          element.appendChild(docLink);\n",
              "        }\n",
              "      </script>\n",
              "    </div>\n",
              "  </div>\n",
              "  "
            ]
          },
          "metadata": {},
          "execution_count": 8
        }
      ],
      "source": [
        "# load the dataset using pandas\n",
        "import pandas as pd\n",
        "home_data = pd.read_csv('/content/openweatherdata-denpasar-1990-2020v0.1.csv')\n",
        "home_data"
      ]
    },
    {
      "cell_type": "code",
      "execution_count": null,
      "metadata": {
        "colab": {
          "base_uri": "https://localhost:8080/"
        },
        "id": "Lk_Q6vM14xMF",
        "outputId": "82df5a76-b2c0-4699-8c8e-a6765a143373"
      },
      "outputs": [
        {
          "output_type": "execute_result",
          "data": {
            "text/plain": [
              "dt_iso                      0\n",
              "timezone                    0\n",
              "city_name                   0\n",
              "lat                         0\n",
              "lon                         0\n",
              "temp                        0\n",
              "temp_min                    0\n",
              "temp_max                    0\n",
              "pressure                    0\n",
              "humidity                    0\n",
              "wind_speed                  0\n",
              "wind_deg                    0\n",
              "rain_1h                248638\n",
              "rain_3h                248768\n",
              "rain_6h                228826\n",
              "rain_12h               264912\n",
              "rain_24h               258107\n",
              "rain_today             264924\n",
              "snow_1h                264924\n",
              "snow_3h                264924\n",
              "snow_6h                264924\n",
              "snow_12h               264924\n",
              "snow_24h               264924\n",
              "snow_today             264924\n",
              "clouds_all                  0\n",
              "weather_id                  0\n",
              "weather_main                0\n",
              "weather_description         0\n",
              "weather_icon                0\n",
              "dtype: int64"
            ]
          },
          "metadata": {},
          "execution_count": 9
        }
      ],
      "source": [
        "#Check data null\n",
        "home_data.isnull().sum()"
      ]
    },
    {
      "cell_type": "code",
      "execution_count": null,
      "metadata": {
        "colab": {
          "base_uri": "https://localhost:8080/",
          "height": 206
        },
        "id": "jiWaWS_84zan",
        "outputId": "3057fe2e-1d47-41a7-9495-db190a51812b"
      },
      "outputs": [
        {
          "output_type": "display_data",
          "data": {
            "text/plain": [
              "          dt_iso   temp\n",
              "0  1/1/1990 0:00  25.82\n",
              "1  1/1/1990 1:00  26.20\n",
              "2  1/1/1990 2:00  26.45\n",
              "3  1/1/1990 3:00  26.80\n",
              "4  1/1/1990 4:00  27.04"
            ],
            "text/html": [
              "\n",
              "  <div id=\"df-5c55b3e3-314f-4cb7-964c-a1309a840d5d\">\n",
              "    <div class=\"colab-df-container\">\n",
              "      <div>\n",
              "<style scoped>\n",
              "    .dataframe tbody tr th:only-of-type {\n",
              "        vertical-align: middle;\n",
              "    }\n",
              "\n",
              "    .dataframe tbody tr th {\n",
              "        vertical-align: top;\n",
              "    }\n",
              "\n",
              "    .dataframe thead th {\n",
              "        text-align: right;\n",
              "    }\n",
              "</style>\n",
              "<table border=\"1\" class=\"dataframe\">\n",
              "  <thead>\n",
              "    <tr style=\"text-align: right;\">\n",
              "      <th></th>\n",
              "      <th>dt_iso</th>\n",
              "      <th>temp</th>\n",
              "    </tr>\n",
              "  </thead>\n",
              "  <tbody>\n",
              "    <tr>\n",
              "      <th>0</th>\n",
              "      <td>1/1/1990 0:00</td>\n",
              "      <td>25.82</td>\n",
              "    </tr>\n",
              "    <tr>\n",
              "      <th>1</th>\n",
              "      <td>1/1/1990 1:00</td>\n",
              "      <td>26.20</td>\n",
              "    </tr>\n",
              "    <tr>\n",
              "      <th>2</th>\n",
              "      <td>1/1/1990 2:00</td>\n",
              "      <td>26.45</td>\n",
              "    </tr>\n",
              "    <tr>\n",
              "      <th>3</th>\n",
              "      <td>1/1/1990 3:00</td>\n",
              "      <td>26.80</td>\n",
              "    </tr>\n",
              "    <tr>\n",
              "      <th>4</th>\n",
              "      <td>1/1/1990 4:00</td>\n",
              "      <td>27.04</td>\n",
              "    </tr>\n",
              "  </tbody>\n",
              "</table>\n",
              "</div>\n",
              "      <button class=\"colab-df-convert\" onclick=\"convertToInteractive('df-5c55b3e3-314f-4cb7-964c-a1309a840d5d')\"\n",
              "              title=\"Convert this dataframe to an interactive table.\"\n",
              "              style=\"display:none;\">\n",
              "        \n",
              "  <svg xmlns=\"http://www.w3.org/2000/svg\" height=\"24px\"viewBox=\"0 0 24 24\"\n",
              "       width=\"24px\">\n",
              "    <path d=\"M0 0h24v24H0V0z\" fill=\"none\"/>\n",
              "    <path d=\"M18.56 5.44l.94 2.06.94-2.06 2.06-.94-2.06-.94-.94-2.06-.94 2.06-2.06.94zm-11 1L8.5 8.5l.94-2.06 2.06-.94-2.06-.94L8.5 2.5l-.94 2.06-2.06.94zm10 10l.94 2.06.94-2.06 2.06-.94-2.06-.94-.94-2.06-.94 2.06-2.06.94z\"/><path d=\"M17.41 7.96l-1.37-1.37c-.4-.4-.92-.59-1.43-.59-.52 0-1.04.2-1.43.59L10.3 9.45l-7.72 7.72c-.78.78-.78 2.05 0 2.83L4 21.41c.39.39.9.59 1.41.59.51 0 1.02-.2 1.41-.59l7.78-7.78 2.81-2.81c.8-.78.8-2.07 0-2.86zM5.41 20L4 18.59l7.72-7.72 1.47 1.35L5.41 20z\"/>\n",
              "  </svg>\n",
              "      </button>\n",
              "      \n",
              "  <style>\n",
              "    .colab-df-container {\n",
              "      display:flex;\n",
              "      flex-wrap:wrap;\n",
              "      gap: 12px;\n",
              "    }\n",
              "\n",
              "    .colab-df-convert {\n",
              "      background-color: #E8F0FE;\n",
              "      border: none;\n",
              "      border-radius: 50%;\n",
              "      cursor: pointer;\n",
              "      display: none;\n",
              "      fill: #1967D2;\n",
              "      height: 32px;\n",
              "      padding: 0 0 0 0;\n",
              "      width: 32px;\n",
              "    }\n",
              "\n",
              "    .colab-df-convert:hover {\n",
              "      background-color: #E2EBFA;\n",
              "      box-shadow: 0px 1px 2px rgba(60, 64, 67, 0.3), 0px 1px 3px 1px rgba(60, 64, 67, 0.15);\n",
              "      fill: #174EA6;\n",
              "    }\n",
              "\n",
              "    [theme=dark] .colab-df-convert {\n",
              "      background-color: #3B4455;\n",
              "      fill: #D2E3FC;\n",
              "    }\n",
              "\n",
              "    [theme=dark] .colab-df-convert:hover {\n",
              "      background-color: #434B5C;\n",
              "      box-shadow: 0px 1px 3px 1px rgba(0, 0, 0, 0.15);\n",
              "      filter: drop-shadow(0px 1px 2px rgba(0, 0, 0, 0.3));\n",
              "      fill: #FFFFFF;\n",
              "    }\n",
              "  </style>\n",
              "\n",
              "      <script>\n",
              "        const buttonEl =\n",
              "          document.querySelector('#df-5c55b3e3-314f-4cb7-964c-a1309a840d5d button.colab-df-convert');\n",
              "        buttonEl.style.display =\n",
              "          google.colab.kernel.accessAllowed ? 'block' : 'none';\n",
              "\n",
              "        async function convertToInteractive(key) {\n",
              "          const element = document.querySelector('#df-5c55b3e3-314f-4cb7-964c-a1309a840d5d');\n",
              "          const dataTable =\n",
              "            await google.colab.kernel.invokeFunction('convertToInteractive',\n",
              "                                                     [key], {});\n",
              "          if (!dataTable) return;\n",
              "\n",
              "          const docLinkHtml = 'Like what you see? Visit the ' +\n",
              "            '<a target=\"_blank\" href=https://colab.research.google.com/notebooks/data_table.ipynb>data table notebook</a>'\n",
              "            + ' to learn more about interactive tables.';\n",
              "          element.innerHTML = '';\n",
              "          dataTable['output_type'] = 'display_data';\n",
              "          await google.colab.output.renderOutput(dataTable, element);\n",
              "          const docLink = document.createElement('div');\n",
              "          docLink.innerHTML = docLinkHtml;\n",
              "          element.appendChild(docLink);\n",
              "        }\n",
              "      </script>\n",
              "    </div>\n",
              "  </div>\n",
              "  "
            ]
          },
          "metadata": {}
        }
      ],
      "source": [
        "#Drop attribute that not used\n",
        "home_data = home_data.drop(home_data.columns[[1, 2, 3, 4, 6, 7, 8, 9, 10, 11, 12, 13, 14, 15, 16, 17, 18, 19,\n",
        "                                        20, 21, 22, 23, 24, 25, 26, 27, 28]],axis=1)\n",
        "display(home_data.head())"
      ]
    },
    {
      "cell_type": "code",
      "execution_count": null,
      "metadata": {
        "colab": {
          "base_uri": "https://localhost:8080/"
        },
        "id": "auHNkjZ-45Ga",
        "outputId": "ab1e24c6-4236-49ae-8ce1-f470847d2fce"
      },
      "outputs": [
        {
          "output_type": "stream",
          "name": "stdout",
          "text": [
            "<class 'pandas.core.frame.DataFrame'>\n",
            "RangeIndex: 264924 entries, 0 to 264923\n",
            "Data columns (total 2 columns):\n",
            " #   Column  Non-Null Count   Dtype  \n",
            "---  ------  --------------   -----  \n",
            " 0   dt_iso  264924 non-null  object \n",
            " 1   temp    264924 non-null  float64\n",
            "dtypes: float64(1), object(1)\n",
            "memory usage: 4.0+ MB\n"
          ]
        }
      ],
      "source": [
        "#Check data is null\n",
        "home_data.isnull().sum()\n",
        "home_data.info()"
      ]
    },
    {
      "cell_type": "code",
      "execution_count": null,
      "metadata": {
        "colab": {
          "base_uri": "https://localhost:8080/",
          "height": 206
        },
        "id": "7pTSqa5f46dE",
        "outputId": "531ecc83-8869-421f-b460-40b26081de22"
      },
      "outputs": [
        {
          "output_type": "display_data",
          "data": {
            "text/plain": [
              "            date   temp\n",
              "0  1/1/1990 0:00  25.82\n",
              "1  1/1/1990 1:00  26.20\n",
              "2  1/1/1990 2:00  26.45\n",
              "3  1/1/1990 3:00  26.80\n",
              "4  1/1/1990 4:00  27.04"
            ],
            "text/html": [
              "\n",
              "  <div id=\"df-4972f8ba-cd75-4836-a6b4-10268e99cb17\">\n",
              "    <div class=\"colab-df-container\">\n",
              "      <div>\n",
              "<style scoped>\n",
              "    .dataframe tbody tr th:only-of-type {\n",
              "        vertical-align: middle;\n",
              "    }\n",
              "\n",
              "    .dataframe tbody tr th {\n",
              "        vertical-align: top;\n",
              "    }\n",
              "\n",
              "    .dataframe thead th {\n",
              "        text-align: right;\n",
              "    }\n",
              "</style>\n",
              "<table border=\"1\" class=\"dataframe\">\n",
              "  <thead>\n",
              "    <tr style=\"text-align: right;\">\n",
              "      <th></th>\n",
              "      <th>date</th>\n",
              "      <th>temp</th>\n",
              "    </tr>\n",
              "  </thead>\n",
              "  <tbody>\n",
              "    <tr>\n",
              "      <th>0</th>\n",
              "      <td>1/1/1990 0:00</td>\n",
              "      <td>25.82</td>\n",
              "    </tr>\n",
              "    <tr>\n",
              "      <th>1</th>\n",
              "      <td>1/1/1990 1:00</td>\n",
              "      <td>26.20</td>\n",
              "    </tr>\n",
              "    <tr>\n",
              "      <th>2</th>\n",
              "      <td>1/1/1990 2:00</td>\n",
              "      <td>26.45</td>\n",
              "    </tr>\n",
              "    <tr>\n",
              "      <th>3</th>\n",
              "      <td>1/1/1990 3:00</td>\n",
              "      <td>26.80</td>\n",
              "    </tr>\n",
              "    <tr>\n",
              "      <th>4</th>\n",
              "      <td>1/1/1990 4:00</td>\n",
              "      <td>27.04</td>\n",
              "    </tr>\n",
              "  </tbody>\n",
              "</table>\n",
              "</div>\n",
              "      <button class=\"colab-df-convert\" onclick=\"convertToInteractive('df-4972f8ba-cd75-4836-a6b4-10268e99cb17')\"\n",
              "              title=\"Convert this dataframe to an interactive table.\"\n",
              "              style=\"display:none;\">\n",
              "        \n",
              "  <svg xmlns=\"http://www.w3.org/2000/svg\" height=\"24px\"viewBox=\"0 0 24 24\"\n",
              "       width=\"24px\">\n",
              "    <path d=\"M0 0h24v24H0V0z\" fill=\"none\"/>\n",
              "    <path d=\"M18.56 5.44l.94 2.06.94-2.06 2.06-.94-2.06-.94-.94-2.06-.94 2.06-2.06.94zm-11 1L8.5 8.5l.94-2.06 2.06-.94-2.06-.94L8.5 2.5l-.94 2.06-2.06.94zm10 10l.94 2.06.94-2.06 2.06-.94-2.06-.94-.94-2.06-.94 2.06-2.06.94z\"/><path d=\"M17.41 7.96l-1.37-1.37c-.4-.4-.92-.59-1.43-.59-.52 0-1.04.2-1.43.59L10.3 9.45l-7.72 7.72c-.78.78-.78 2.05 0 2.83L4 21.41c.39.39.9.59 1.41.59.51 0 1.02-.2 1.41-.59l7.78-7.78 2.81-2.81c.8-.78.8-2.07 0-2.86zM5.41 20L4 18.59l7.72-7.72 1.47 1.35L5.41 20z\"/>\n",
              "  </svg>\n",
              "      </button>\n",
              "      \n",
              "  <style>\n",
              "    .colab-df-container {\n",
              "      display:flex;\n",
              "      flex-wrap:wrap;\n",
              "      gap: 12px;\n",
              "    }\n",
              "\n",
              "    .colab-df-convert {\n",
              "      background-color: #E8F0FE;\n",
              "      border: none;\n",
              "      border-radius: 50%;\n",
              "      cursor: pointer;\n",
              "      display: none;\n",
              "      fill: #1967D2;\n",
              "      height: 32px;\n",
              "      padding: 0 0 0 0;\n",
              "      width: 32px;\n",
              "    }\n",
              "\n",
              "    .colab-df-convert:hover {\n",
              "      background-color: #E2EBFA;\n",
              "      box-shadow: 0px 1px 2px rgba(60, 64, 67, 0.3), 0px 1px 3px 1px rgba(60, 64, 67, 0.15);\n",
              "      fill: #174EA6;\n",
              "    }\n",
              "\n",
              "    [theme=dark] .colab-df-convert {\n",
              "      background-color: #3B4455;\n",
              "      fill: #D2E3FC;\n",
              "    }\n",
              "\n",
              "    [theme=dark] .colab-df-convert:hover {\n",
              "      background-color: #434B5C;\n",
              "      box-shadow: 0px 1px 3px 1px rgba(0, 0, 0, 0.15);\n",
              "      filter: drop-shadow(0px 1px 2px rgba(0, 0, 0, 0.3));\n",
              "      fill: #FFFFFF;\n",
              "    }\n",
              "  </style>\n",
              "\n",
              "      <script>\n",
              "        const buttonEl =\n",
              "          document.querySelector('#df-4972f8ba-cd75-4836-a6b4-10268e99cb17 button.colab-df-convert');\n",
              "        buttonEl.style.display =\n",
              "          google.colab.kernel.accessAllowed ? 'block' : 'none';\n",
              "\n",
              "        async function convertToInteractive(key) {\n",
              "          const element = document.querySelector('#df-4972f8ba-cd75-4836-a6b4-10268e99cb17');\n",
              "          const dataTable =\n",
              "            await google.colab.kernel.invokeFunction('convertToInteractive',\n",
              "                                                     [key], {});\n",
              "          if (!dataTable) return;\n",
              "\n",
              "          const docLinkHtml = 'Like what you see? Visit the ' +\n",
              "            '<a target=\"_blank\" href=https://colab.research.google.com/notebooks/data_table.ipynb>data table notebook</a>'\n",
              "            + ' to learn more about interactive tables.';\n",
              "          element.innerHTML = '';\n",
              "          dataTable['output_type'] = 'display_data';\n",
              "          await google.colab.output.renderOutput(dataTable, element);\n",
              "          const docLink = document.createElement('div');\n",
              "          docLink.innerHTML = docLinkHtml;\n",
              "          element.appendChild(docLink);\n",
              "        }\n",
              "      </script>\n",
              "    </div>\n",
              "  </div>\n",
              "  "
            ]
          },
          "metadata": {}
        }
      ],
      "source": [
        "#Rename Attribute dt_iso into date\n",
        "home_data = home_data.rename(columns={'dt_iso': 'date'})\n",
        "display(home_data.head())"
      ]
    },
    {
      "cell_type": "code",
      "execution_count": null,
      "metadata": {
        "colab": {
          "base_uri": "https://localhost:8080/",
          "height": 341
        },
        "id": "T3-bUrFFP5-Q",
        "outputId": "c8ed7b83-1bd7-4282-ec20-43b297b8ffa6"
      },
      "outputs": [
        {
          "output_type": "display_data",
          "data": {
            "text/plain": [
              "<Figure size 1080x360 with 1 Axes>"
            ],
            "image/png": "[encoded data removed]"
          },
          "metadata": {
            "needs_background": "light"
          }
        }
      ],
      "source": [
        "#Plot time series\n",
        "date = home_data['date'].values\n",
        "temperature  = home_data['temp'].values\n",
        "plt.figure(figsize=(15,5))\n",
        "plt.plot(date, temperature)\n",
        "plt.title('Denpasar Weather',\n",
        "          fontsize=20);"
      ]
    },
    {
      "cell_type": "code",
      "execution_count": null,
      "metadata": {
        "colab": {
          "base_uri": "https://localhost:8080/"
        },
        "id": "oP1yQ1VPForr",
        "outputId": "26f9e186-e27e-4d8e-a9cc-eed9412a97b7"
      },
      "outputs": [
        {
          "output_type": "stream",
          "name": "stdout",
          "text": [
            "X Train=  211939\n",
            "X Vaidation=  52985\n",
            "Y train=  211939\n",
            "Y Validation=  52985\n"
          ]
        }
      ],
      "source": [
        "from sklearn.model_selection import train_test_split\n",
        "X_train, X_validation, y_train, y_validation = train_test_split(temperature, date, test_size = 0.2, random_state = 42)\n",
        "print(\"X Train= \",len(X_train))\n",
        "print(\"X Vaidation= \",len(X_validation))\n",
        "print(\"Y train= \",len(y_train))\n",
        "print(\"Y Validation= \",len(y_validation))"
      ]
    },
    {
      "cell_type": "code",
      "execution_count": null,
      "metadata": {
        "id": "QMnJAND11qyC"
      },
      "outputs": [],
      "source": [
        "def windowed_dataset(series, window_size, batch_size, shuffle_buffer):\n",
        "  series = tf.expand_dims(series, axis=-1)\n",
        "  ds = tf.data.Dataset.from_tensor_slices(series)\n",
        "  ds = ds.window(window_size + 1, shift=1, drop_remainder = True)\n",
        "  ds = ds.flat_map(lambda w: w.batch(window_size + 1))\n",
        "  ds = ds.shuffle(shuffle_buffer)\n",
        "  ds = ds.map(lambda w: (w[:-1], w[-1:]))\n",
        "  return ds.batch(batch_size).prefetch(1)"
      ]
    },
    {
      "cell_type": "code",
      "execution_count": null,
      "metadata": {
        "id": "IcJbf-kS1sWx"
      },
      "outputs": [],
      "source": [
        "tf.keras.backend.set_floatx('float64')\n",
        "train_set = windowed_dataset(X_train, window_size=64, batch_size=1024, shuffle_buffer=1000)\n",
        "validation_set = windowed_dataset(X_validation, window_size=64, batch_size=1024, shuffle_buffer=1000)\n",
        "model = tf.keras.models.Sequential([\n",
        "  tf.keras.layers.LSTM(60, return_sequences=True),\n",
        "  tf.keras.layers.LSTM(60),\n",
        "  tf.keras.layers.Dense(30, activation=\"relu\"),\n",
        "  tf.keras.layers.Dense(10, activation=\"relu\"), \n",
        "  tf.keras.layers.Dense(1),\n",
        "])"
      ]
    },
    {
      "cell_type": "code",
      "execution_count": null,
      "metadata": {
        "colab": {
          "base_uri": "https://localhost:8080/"
        },
        "id": "zEF-1uw61tTV",
        "outputId": "65051981-7428-452b-e3e9-07bb412035d2"
      },
      "outputs": [
        {
          "output_type": "stream",
          "name": "stdout",
          "text": [
            "Temp Max=  39.0\n",
            "Temp Min=  3.0\n",
            "MAE=  3.6\n"
          ]
        }
      ],
      "source": [
        "#Menghitung nilai mae\n",
        "Mae = (home_data['temp'].max() - home_data['temp'].min()) * 0.1\n",
        "print(\"Temp Max= \",home_data['temp'].max())\n",
        "print(\"Temp Min= \",home_data['temp'].min())\n",
        "print(\"MAE= \",Mae)"
      ]
    },
    {
      "cell_type": "code",
      "execution_count": null,
      "metadata": {
        "id": "O6qwM28o1upq"
      },
      "outputs": [],
      "source": [
        "#Callback 10% mae\n",
        "class myCallback(tf.keras.callbacks.Callback):\n",
        "  def on_epoch_end(self, epoch, logs={}):\n",
        "    if(logs.get('mae')<3.6 and logs.get('val_mae')<3.6):\n",
        "      print(\"MAE < 10% skala data\")\n",
        "      self.model.stop_training = True\n",
        "callbacks = myCallback()"
      ]
    },
    {
      "cell_type": "code",
      "execution_count": null,
      "metadata": {
        "colab": {
          "base_uri": "https://localhost:8080/"
        },
        "id": "I7Celdzh1vsc",
        "outputId": "dc00652f-a187-46d2-d191-05d3c0882c62"
      },
      "outputs": [
        {
          "output_type": "stream",
          "name": "stdout",
          "text": [
            "Epoch 1/100\n"
          ]
        },
        {
          "output_type": "stream",
          "name": "stderr",
          "text": [
            "/usr/local/lib/python3.8/dist-packages/keras/optimizers/optimizer_v2/gradient_descent.py:108: UserWarning: The `lr` argument is deprecated, use `learning_rate` instead.\n",
            "  super(SGD, self).__init__(name, **kwargs)\n"
          ]
        },
        {
          "output_type": "stream",
          "name": "stdout",
          "text": [
            "207/207 - 46s - loss: 24.9370 - mae: 25.4370 - val_loss: 21.2545 - val_mae: 21.7545 - 46s/epoch - 223ms/step\n",
            "Epoch 2/100\n",
            "207/207 - 37s - loss: 6.7033 - mae: 7.1634 - val_loss: 1.1435 - val_mae: 1.5720 - 37s/epoch - 181ms/step\n",
            "Epoch 3/100\n",
            "MAE < 10% skala data\n",
            "207/207 - 38s - loss: 1.1350 - mae: 1.5624 - val_loss: 1.1434 - val_mae: 1.5716 - 38s/epoch - 182ms/step\n"
          ]
        }
      ],
      "source": [
        "optimizer = tf.keras.optimizers.SGD(lr=1.0000e-04, momentum=0.9)\n",
        "model.compile(loss=tf.keras.losses.Huber(),\n",
        "              optimizer=optimizer,metrics=[\"mae\"])\n",
        "trainmodel = model.fit(train_set,epochs=100,validation_data=validation_set,verbose=2,callbacks=[callbacks])"
      ]
    },
    {
      "cell_type": "code",
      "execution_count": null,
      "metadata": {
        "colab": {
          "base_uri": "https://localhost:8080/",
          "height": 573
        },
        "id": "LgsIDq7X1wlw",
        "outputId": "8942c25b-ce18-43a5-d9c7-5b79dba0baf6"
      },
      "outputs": [
        {
          "output_type": "display_data",
          "data": {
            "text/plain": [
              "<Figure size 432x288 with 1 Axes>"
            ],
            "image/png": "[encoded data removed]"
          },
          "metadata": {
            "needs_background": "light"
          }
        },
        {
          "output_type": "display_data",
          "data": {
            "text/plain": [
              "<Figure size 432x288 with 1 Axes>"
            ],
            "image/png": "[encoded data removed]"
          },
          "metadata": {
            "needs_background": "light"
          }
        }
      ],
      "source": [
        "#Plot MAE and Loss\n",
        "import matplotlib.pyplot as plt\n",
        "# MAE\n",
        "plt.plot(trainmodel.history['mae'])\n",
        "plt.plot(trainmodel.history['val_mae'])\n",
        "plt.title('MAE Model')\n",
        "plt.ylabel('Mae')\n",
        "plt.xlabel('epoch')\n",
        "plt.legend(['Train', 'Val'], loc='upper left')\n",
        "plt.show()  \n",
        "#Loss\n",
        "plt.plot(trainmodel.history['loss'])\n",
        "plt.plot(trainmodel.history['val_loss'])\n",
        "plt.title('Loss Model')\n",
        "plt.ylabel('loss')\n",
        "plt.xlabel('epoch')\n",
        "plt.legend(['train', 'test'], loc='upper left')\n",
        "plt.show()"
      ]
    }
  ],
  "metadata": {
    "accelerator": "GPU",
    "colab": {
      "toc_visible": true,
      "provenance": [],
      "authorship_tag": "ABX9TyPdffzvcRafYsjs9tDvD5TX",
      "include_colab_link": true
    },
    "gpuClass": "standard",
    "kernelspec": {
      "display_name": "Python 3",
      "name": "python3"
    },
    "language_info": {
      "name": "python"
    }
  },
  "nbformat": 4,
  "nbformat_minor": 0
}